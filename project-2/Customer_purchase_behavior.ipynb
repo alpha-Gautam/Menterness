{
 "cells": [
  {
   "cell_type": "code",
   "execution_count": 379,
   "id": "d8f08d14-630f-4d60-888e-efb1171c0e60",
   "metadata": {},
   "outputs": [],
   "source": [
    "import pandas as pd\n",
    "import numpy as np\n",
    "import seaborn as sns\n",
    "import matplotlib.pyplot as plt\n",
    "from sklearn.model_selection import train_test_split\n",
    "from sklearn.preprocessing import StandardScaler\n",
    "\n",
    "from sklearn.linear_model import LogisticRegression\n",
    "\n",
    "\n",
    "%matplotlib inline"
   ]
  },
  {
   "cell_type": "markdown",
   "id": "6f1183d7-c0d5-4f3c-a4dd-d2e653dd45e7",
   "metadata": {},
   "source": [
    "## Step 1 : Data loading and Preprocessing"
   ]
  },
  {
   "cell_type": "code",
   "execution_count": 380,
   "id": "aa63fed5-28df-49bc-b787-b0dedb11300f",
   "metadata": {},
   "outputs": [],
   "source": [
    "data=pd.read_csv(\"customer_purchase_data.csv\")"
   ]
  },
  {
   "cell_type": "code",
   "execution_count": 381,
   "id": "bf73a23b-9997-4e88-8524-e8a4afd17ded",
   "metadata": {},
   "outputs": [
    {
     "data": {
      "text/html": [
       "<div>\n",
       "<style scoped>\n",
       "    .dataframe tbody tr th:only-of-type {\n",
       "        vertical-align: middle;\n",
       "    }\n",
       "\n",
       "    .dataframe tbody tr th {\n",
       "        vertical-align: top;\n",
       "    }\n",
       "\n",
       "    .dataframe thead th {\n",
       "        text-align: right;\n",
       "    }\n",
       "</style>\n",
       "<table border=\"1\" class=\"dataframe\">\n",
       "  <thead>\n",
       "    <tr style=\"text-align: right;\">\n",
       "      <th></th>\n",
       "      <th>Age</th>\n",
       "      <th>Gender</th>\n",
       "      <th>AnnualIncome</th>\n",
       "      <th>NumberOfPurchases</th>\n",
       "      <th>ProductCategory</th>\n",
       "      <th>TimeSpentOnWebsite</th>\n",
       "      <th>LoyaltyProgram</th>\n",
       "      <th>DiscountsAvailed</th>\n",
       "      <th>PurchaseStatus</th>\n",
       "    </tr>\n",
       "  </thead>\n",
       "  <tbody>\n",
       "    <tr>\n",
       "      <th>0</th>\n",
       "      <td>40</td>\n",
       "      <td>1</td>\n",
       "      <td>66120.267939</td>\n",
       "      <td>8</td>\n",
       "      <td>0</td>\n",
       "      <td>30.568601</td>\n",
       "      <td>0</td>\n",
       "      <td>5</td>\n",
       "      <td>1</td>\n",
       "    </tr>\n",
       "    <tr>\n",
       "      <th>1</th>\n",
       "      <td>20</td>\n",
       "      <td>1</td>\n",
       "      <td>23579.773583</td>\n",
       "      <td>4</td>\n",
       "      <td>2</td>\n",
       "      <td>38.240097</td>\n",
       "      <td>0</td>\n",
       "      <td>5</td>\n",
       "      <td>0</td>\n",
       "    </tr>\n",
       "    <tr>\n",
       "      <th>2</th>\n",
       "      <td>27</td>\n",
       "      <td>1</td>\n",
       "      <td>127821.306432</td>\n",
       "      <td>11</td>\n",
       "      <td>2</td>\n",
       "      <td>31.633212</td>\n",
       "      <td>1</td>\n",
       "      <td>0</td>\n",
       "      <td>1</td>\n",
       "    </tr>\n",
       "    <tr>\n",
       "      <th>3</th>\n",
       "      <td>24</td>\n",
       "      <td>1</td>\n",
       "      <td>137798.623120</td>\n",
       "      <td>19</td>\n",
       "      <td>3</td>\n",
       "      <td>46.167059</td>\n",
       "      <td>0</td>\n",
       "      <td>4</td>\n",
       "      <td>1</td>\n",
       "    </tr>\n",
       "    <tr>\n",
       "      <th>4</th>\n",
       "      <td>31</td>\n",
       "      <td>1</td>\n",
       "      <td>99300.964220</td>\n",
       "      <td>19</td>\n",
       "      <td>1</td>\n",
       "      <td>19.823592</td>\n",
       "      <td>0</td>\n",
       "      <td>0</td>\n",
       "      <td>1</td>\n",
       "    </tr>\n",
       "    <tr>\n",
       "      <th>...</th>\n",
       "      <td>...</td>\n",
       "      <td>...</td>\n",
       "      <td>...</td>\n",
       "      <td>...</td>\n",
       "      <td>...</td>\n",
       "      <td>...</td>\n",
       "      <td>...</td>\n",
       "      <td>...</td>\n",
       "      <td>...</td>\n",
       "    </tr>\n",
       "    <tr>\n",
       "      <th>1495</th>\n",
       "      <td>39</td>\n",
       "      <td>1</td>\n",
       "      <td>65048.141834</td>\n",
       "      <td>13</td>\n",
       "      <td>0</td>\n",
       "      <td>34.590743</td>\n",
       "      <td>0</td>\n",
       "      <td>5</td>\n",
       "      <td>1</td>\n",
       "    </tr>\n",
       "    <tr>\n",
       "      <th>1496</th>\n",
       "      <td>67</td>\n",
       "      <td>1</td>\n",
       "      <td>28775.331069</td>\n",
       "      <td>18</td>\n",
       "      <td>2</td>\n",
       "      <td>17.625707</td>\n",
       "      <td>0</td>\n",
       "      <td>1</td>\n",
       "      <td>1</td>\n",
       "    </tr>\n",
       "    <tr>\n",
       "      <th>1497</th>\n",
       "      <td>40</td>\n",
       "      <td>1</td>\n",
       "      <td>57363.247541</td>\n",
       "      <td>7</td>\n",
       "      <td>4</td>\n",
       "      <td>12.206033</td>\n",
       "      <td>0</td>\n",
       "      <td>0</td>\n",
       "      <td>0</td>\n",
       "    </tr>\n",
       "    <tr>\n",
       "      <th>1498</th>\n",
       "      <td>63</td>\n",
       "      <td>0</td>\n",
       "      <td>134021.775532</td>\n",
       "      <td>16</td>\n",
       "      <td>2</td>\n",
       "      <td>37.311634</td>\n",
       "      <td>1</td>\n",
       "      <td>0</td>\n",
       "      <td>1</td>\n",
       "    </tr>\n",
       "    <tr>\n",
       "      <th>1499</th>\n",
       "      <td>50</td>\n",
       "      <td>0</td>\n",
       "      <td>52625.665974</td>\n",
       "      <td>13</td>\n",
       "      <td>0</td>\n",
       "      <td>25.348017</td>\n",
       "      <td>1</td>\n",
       "      <td>4</td>\n",
       "      <td>1</td>\n",
       "    </tr>\n",
       "  </tbody>\n",
       "</table>\n",
       "<p>1500 rows × 9 columns</p>\n",
       "</div>"
      ],
      "text/plain": [
       "      Age  Gender   AnnualIncome  NumberOfPurchases  ProductCategory  \\\n",
       "0      40       1   66120.267939                  8                0   \n",
       "1      20       1   23579.773583                  4                2   \n",
       "2      27       1  127821.306432                 11                2   \n",
       "3      24       1  137798.623120                 19                3   \n",
       "4      31       1   99300.964220                 19                1   \n",
       "...   ...     ...            ...                ...              ...   \n",
       "1495   39       1   65048.141834                 13                0   \n",
       "1496   67       1   28775.331069                 18                2   \n",
       "1497   40       1   57363.247541                  7                4   \n",
       "1498   63       0  134021.775532                 16                2   \n",
       "1499   50       0   52625.665974                 13                0   \n",
       "\n",
       "      TimeSpentOnWebsite  LoyaltyProgram  DiscountsAvailed  PurchaseStatus  \n",
       "0              30.568601               0                 5               1  \n",
       "1              38.240097               0                 5               0  \n",
       "2              31.633212               1                 0               1  \n",
       "3              46.167059               0                 4               1  \n",
       "4              19.823592               0                 0               1  \n",
       "...                  ...             ...               ...             ...  \n",
       "1495           34.590743               0                 5               1  \n",
       "1496           17.625707               0                 1               1  \n",
       "1497           12.206033               0                 0               0  \n",
       "1498           37.311634               1                 0               1  \n",
       "1499           25.348017               1                 4               1  \n",
       "\n",
       "[1500 rows x 9 columns]"
      ]
     },
     "execution_count": 381,
     "metadata": {},
     "output_type": "execute_result"
    }
   ],
   "source": [
    "data"
   ]
  },
  {
   "cell_type": "code",
   "execution_count": 382,
   "id": "d9124100-2ae1-4449-9d19-2086dfa47381",
   "metadata": {},
   "outputs": [
    {
     "name": "stdout",
     "output_type": "stream",
     "text": [
      "<class 'pandas.core.frame.DataFrame'>\n",
      "RangeIndex: 1500 entries, 0 to 1499\n",
      "Data columns (total 9 columns):\n",
      " #   Column              Non-Null Count  Dtype  \n",
      "---  ------              --------------  -----  \n",
      " 0   Age                 1500 non-null   int64  \n",
      " 1   Gender              1500 non-null   int64  \n",
      " 2   AnnualIncome        1500 non-null   float64\n",
      " 3   NumberOfPurchases   1500 non-null   int64  \n",
      " 4   ProductCategory     1500 non-null   int64  \n",
      " 5   TimeSpentOnWebsite  1500 non-null   float64\n",
      " 6   LoyaltyProgram      1500 non-null   int64  \n",
      " 7   DiscountsAvailed    1500 non-null   int64  \n",
      " 8   PurchaseStatus      1500 non-null   int64  \n",
      "dtypes: float64(2), int64(7)\n",
      "memory usage: 105.6 KB\n"
     ]
    }
   ],
   "source": [
    "data.info()"
   ]
  },
  {
   "cell_type": "code",
   "execution_count": 383,
   "id": "2a182411-5c1b-4195-ad83-1364b92b746a",
   "metadata": {},
   "outputs": [
    {
     "data": {
      "text/plain": [
       "Age                   0\n",
       "Gender                0\n",
       "AnnualIncome          0\n",
       "NumberOfPurchases     0\n",
       "ProductCategory       0\n",
       "TimeSpentOnWebsite    0\n",
       "LoyaltyProgram        0\n",
       "DiscountsAvailed      0\n",
       "PurchaseStatus        0\n",
       "dtype: int64"
      ]
     },
     "execution_count": 383,
     "metadata": {},
     "output_type": "execute_result"
    }
   ],
   "source": [
    "data.isnull().sum()"
   ]
  },
  {
   "cell_type": "code",
   "execution_count": 384,
   "id": "a192c73b-ce8b-4510-ba31-e62624e24380",
   "metadata": {},
   "outputs": [
    {
     "data": {
      "text/plain": [
       "np.int64(112)"
      ]
     },
     "execution_count": 384,
     "metadata": {},
     "output_type": "execute_result"
    }
   ],
   "source": [
    "data.duplicated().sum()"
   ]
  },
  {
   "cell_type": "code",
   "execution_count": 385,
   "id": "3ed15727-5cd7-4e08-b07d-a007dbe17d63",
   "metadata": {},
   "outputs": [
    {
     "data": {
      "text/html": [
       "<div>\n",
       "<style scoped>\n",
       "    .dataframe tbody tr th:only-of-type {\n",
       "        vertical-align: middle;\n",
       "    }\n",
       "\n",
       "    .dataframe tbody tr th {\n",
       "        vertical-align: top;\n",
       "    }\n",
       "\n",
       "    .dataframe thead th {\n",
       "        text-align: right;\n",
       "    }\n",
       "</style>\n",
       "<table border=\"1\" class=\"dataframe\">\n",
       "  <thead>\n",
       "    <tr style=\"text-align: right;\">\n",
       "      <th></th>\n",
       "      <th>Age</th>\n",
       "      <th>Gender</th>\n",
       "      <th>AnnualIncome</th>\n",
       "      <th>NumberOfPurchases</th>\n",
       "      <th>ProductCategory</th>\n",
       "      <th>TimeSpentOnWebsite</th>\n",
       "      <th>LoyaltyProgram</th>\n",
       "      <th>DiscountsAvailed</th>\n",
       "      <th>PurchaseStatus</th>\n",
       "    </tr>\n",
       "  </thead>\n",
       "  <tbody>\n",
       "    <tr>\n",
       "      <th>0</th>\n",
       "      <td>40</td>\n",
       "      <td>1</td>\n",
       "      <td>66120.267939</td>\n",
       "      <td>8</td>\n",
       "      <td>0</td>\n",
       "      <td>30.568601</td>\n",
       "      <td>0</td>\n",
       "      <td>5</td>\n",
       "      <td>1</td>\n",
       "    </tr>\n",
       "    <tr>\n",
       "      <th>1</th>\n",
       "      <td>20</td>\n",
       "      <td>1</td>\n",
       "      <td>23579.773583</td>\n",
       "      <td>4</td>\n",
       "      <td>2</td>\n",
       "      <td>38.240097</td>\n",
       "      <td>0</td>\n",
       "      <td>5</td>\n",
       "      <td>0</td>\n",
       "    </tr>\n",
       "    <tr>\n",
       "      <th>2</th>\n",
       "      <td>27</td>\n",
       "      <td>1</td>\n",
       "      <td>127821.306432</td>\n",
       "      <td>11</td>\n",
       "      <td>2</td>\n",
       "      <td>31.633212</td>\n",
       "      <td>1</td>\n",
       "      <td>0</td>\n",
       "      <td>1</td>\n",
       "    </tr>\n",
       "    <tr>\n",
       "      <th>3</th>\n",
       "      <td>24</td>\n",
       "      <td>1</td>\n",
       "      <td>137798.623120</td>\n",
       "      <td>19</td>\n",
       "      <td>3</td>\n",
       "      <td>46.167059</td>\n",
       "      <td>0</td>\n",
       "      <td>4</td>\n",
       "      <td>1</td>\n",
       "    </tr>\n",
       "    <tr>\n",
       "      <th>4</th>\n",
       "      <td>31</td>\n",
       "      <td>1</td>\n",
       "      <td>99300.964220</td>\n",
       "      <td>19</td>\n",
       "      <td>1</td>\n",
       "      <td>19.823592</td>\n",
       "      <td>0</td>\n",
       "      <td>0</td>\n",
       "      <td>1</td>\n",
       "    </tr>\n",
       "    <tr>\n",
       "      <th>...</th>\n",
       "      <td>...</td>\n",
       "      <td>...</td>\n",
       "      <td>...</td>\n",
       "      <td>...</td>\n",
       "      <td>...</td>\n",
       "      <td>...</td>\n",
       "      <td>...</td>\n",
       "      <td>...</td>\n",
       "      <td>...</td>\n",
       "    </tr>\n",
       "    <tr>\n",
       "      <th>1495</th>\n",
       "      <td>39</td>\n",
       "      <td>1</td>\n",
       "      <td>65048.141834</td>\n",
       "      <td>13</td>\n",
       "      <td>0</td>\n",
       "      <td>34.590743</td>\n",
       "      <td>0</td>\n",
       "      <td>5</td>\n",
       "      <td>1</td>\n",
       "    </tr>\n",
       "    <tr>\n",
       "      <th>1496</th>\n",
       "      <td>67</td>\n",
       "      <td>1</td>\n",
       "      <td>28775.331069</td>\n",
       "      <td>18</td>\n",
       "      <td>2</td>\n",
       "      <td>17.625707</td>\n",
       "      <td>0</td>\n",
       "      <td>1</td>\n",
       "      <td>1</td>\n",
       "    </tr>\n",
       "    <tr>\n",
       "      <th>1497</th>\n",
       "      <td>40</td>\n",
       "      <td>1</td>\n",
       "      <td>57363.247541</td>\n",
       "      <td>7</td>\n",
       "      <td>4</td>\n",
       "      <td>12.206033</td>\n",
       "      <td>0</td>\n",
       "      <td>0</td>\n",
       "      <td>0</td>\n",
       "    </tr>\n",
       "    <tr>\n",
       "      <th>1498</th>\n",
       "      <td>63</td>\n",
       "      <td>0</td>\n",
       "      <td>134021.775532</td>\n",
       "      <td>16</td>\n",
       "      <td>2</td>\n",
       "      <td>37.311634</td>\n",
       "      <td>1</td>\n",
       "      <td>0</td>\n",
       "      <td>1</td>\n",
       "    </tr>\n",
       "    <tr>\n",
       "      <th>1499</th>\n",
       "      <td>50</td>\n",
       "      <td>0</td>\n",
       "      <td>52625.665974</td>\n",
       "      <td>13</td>\n",
       "      <td>0</td>\n",
       "      <td>25.348017</td>\n",
       "      <td>1</td>\n",
       "      <td>4</td>\n",
       "      <td>1</td>\n",
       "    </tr>\n",
       "  </tbody>\n",
       "</table>\n",
       "<p>1388 rows × 9 columns</p>\n",
       "</div>"
      ],
      "text/plain": [
       "      Age  Gender   AnnualIncome  NumberOfPurchases  ProductCategory  \\\n",
       "0      40       1   66120.267939                  8                0   \n",
       "1      20       1   23579.773583                  4                2   \n",
       "2      27       1  127821.306432                 11                2   \n",
       "3      24       1  137798.623120                 19                3   \n",
       "4      31       1   99300.964220                 19                1   \n",
       "...   ...     ...            ...                ...              ...   \n",
       "1495   39       1   65048.141834                 13                0   \n",
       "1496   67       1   28775.331069                 18                2   \n",
       "1497   40       1   57363.247541                  7                4   \n",
       "1498   63       0  134021.775532                 16                2   \n",
       "1499   50       0   52625.665974                 13                0   \n",
       "\n",
       "      TimeSpentOnWebsite  LoyaltyProgram  DiscountsAvailed  PurchaseStatus  \n",
       "0              30.568601               0                 5               1  \n",
       "1              38.240097               0                 5               0  \n",
       "2              31.633212               1                 0               1  \n",
       "3              46.167059               0                 4               1  \n",
       "4              19.823592               0                 0               1  \n",
       "...                  ...             ...               ...             ...  \n",
       "1495           34.590743               0                 5               1  \n",
       "1496           17.625707               0                 1               1  \n",
       "1497           12.206033               0                 0               0  \n",
       "1498           37.311634               1                 0               1  \n",
       "1499           25.348017               1                 4               1  \n",
       "\n",
       "[1388 rows x 9 columns]"
      ]
     },
     "execution_count": 385,
     "metadata": {},
     "output_type": "execute_result"
    }
   ],
   "source": [
    "data=data.drop_duplicates()\n",
    "data"
   ]
  },
  {
   "cell_type": "code",
   "execution_count": 386,
   "id": "4786da00-0949-4017-baf5-d97e93faca4a",
   "metadata": {},
   "outputs": [
    {
     "data": {
      "text/plain": [
       "Index(['Age', 'Gender', 'AnnualIncome', 'NumberOfPurchases', 'ProductCategory',\n",
       "       'TimeSpentOnWebsite', 'LoyaltyProgram', 'DiscountsAvailed',\n",
       "       'PurchaseStatus'],\n",
       "      dtype='object')"
      ]
     },
     "execution_count": 386,
     "metadata": {},
     "output_type": "execute_result"
    }
   ],
   "source": [
    "data.columns"
   ]
  },
  {
   "cell_type": "code",
   "execution_count": null,
   "id": "47aff50a-e654-4892-9fd3-3604f816c7ce",
   "metadata": {},
   "outputs": [],
   "source": []
  },
  {
   "cell_type": "code",
   "execution_count": 387,
   "id": "067de997-4905-4ffe-bfb4-933d8acbb462",
   "metadata": {},
   "outputs": [
    {
     "data": {
      "text/plain": [
       "Gender\n",
       "1    696\n",
       "0    692\n",
       "Name: count, dtype: int64"
      ]
     },
     "execution_count": 387,
     "metadata": {},
     "output_type": "execute_result"
    }
   ],
   "source": [
    "data[\"Gender\"].value_counts()"
   ]
  },
  {
   "cell_type": "code",
   "execution_count": 388,
   "id": "423dede1-236f-4c39-ab40-ceace0367bae",
   "metadata": {},
   "outputs": [
    {
     "data": {
      "text/plain": [
       "DiscountsAvailed\n",
       "4    249\n",
       "5    247\n",
       "3    246\n",
       "1    219\n",
       "2    217\n",
       "0    210\n",
       "Name: count, dtype: int64"
      ]
     },
     "execution_count": 388,
     "metadata": {},
     "output_type": "execute_result"
    }
   ],
   "source": [
    "data[\"DiscountsAvailed\"].value_counts()\n"
   ]
  },
  {
   "cell_type": "markdown",
   "id": "7cec3efa-d60b-402e-b430-c4e420e9d590",
   "metadata": {},
   "source": [
    "## Step 2: Finding Correlation and Visualization"
   ]
  },
  {
   "cell_type": "code",
   "execution_count": 389,
   "id": "8a18df2d-85a3-47df-9264-63e4f63ff381",
   "metadata": {},
   "outputs": [
    {
     "data": {
      "text/plain": [
       "PurchaseStatus        1.000000\n",
       "LoyaltyProgram        0.318059\n",
       "DiscountsAvailed      0.296606\n",
       "TimeSpentOnWebsite    0.282127\n",
       "NumberOfPurchases     0.219116\n",
       "AnnualIncome          0.191218\n",
       "ProductCategory       0.014349\n",
       "Gender                0.008856\n",
       "Age                  -0.253598\n",
       "Name: PurchaseStatus, dtype: float64"
      ]
     },
     "execution_count": 389,
     "metadata": {},
     "output_type": "execute_result"
    }
   ],
   "source": [
    "corr_matrix = data.corr()\n",
    "corr_matrix['PurchaseStatus'].sort_values(ascending=False)"
   ]
  },
  {
   "cell_type": "markdown",
   "id": "8704aaf5-e30e-4256-ba43-1e5329daa35d",
   "metadata": {},
   "source": [
    "Valid plot kinds: ('line', 'bar', 'barh', 'kde', 'density', 'area', 'hist', 'box', 'pie', 'scatter', 'hexbin')"
   ]
  },
  {
   "cell_type": "code",
   "execution_count": null,
   "id": "76cfa606-f97a-49cd-890b-e63327df9333",
   "metadata": {},
   "outputs": [],
   "source": []
  },
  {
   "cell_type": "code",
   "execution_count": 390,
   "id": "705ca09a-c601-45d2-8305-ba123051d30c",
   "metadata": {},
   "outputs": [
    {
     "data": {
      "text/plain": [
       "<Axes: >"
      ]
     },
     "execution_count": 390,
     "metadata": {},
     "output_type": "execute_result"
    },
    {
     "data": {
      "image/png": "[encoded data removed]",
      "text/plain": [
       "<Figure size 900x500 with 2 Axes>"
      ]
     },
     "metadata": {},
     "output_type": "display_data"
    }
   ],
   "source": [
    "co_matrix = data.corr()\n",
    "# correlation_matrix\n",
    "plt.figure(figsize=(9,5))\n",
    "sns.heatmap(co_matrix, annot=True, cmap='coolwarm')\n",
    "# plt.show()\n"
   ]
  },
  {
   "cell_type": "code",
   "execution_count": null,
   "id": "57fd1175-9975-4a3a-a4b2-3bb06095c028",
   "metadata": {},
   "outputs": [],
   "source": []
  },
  {
   "cell_type": "code",
   "execution_count": null,
   "id": "27d22528-a7c6-4943-87ae-ed4f2b7da2e4",
   "metadata": {},
   "outputs": [],
   "source": []
  },
  {
   "cell_type": "code",
   "execution_count": 391,
   "id": "694b69c6-dfeb-4d47-8a8b-6adf62e384b3",
   "metadata": {},
   "outputs": [
    {
     "data": {
      "text/plain": [
       "<Axes: xlabel='AnnualIncome', ylabel='PurchaseStatus'>"
      ]
     },
     "execution_count": 391,
     "metadata": {},
     "output_type": "execute_result"
    },
    {
     "data": {
      "image/png": "[encoded data removed]",
      "text/plain": [
       "<Figure size 640x480 with 1 Axes>"
      ]
     },
     "metadata": {},
     "output_type": "display_data"
    },
    {
     "data": {
      "image/png": "[encoded data removed]",
      "text/plain": [
       "<Figure size 640x480 with 1 Axes>"
      ]
     },
     "metadata": {},
     "output_type": "display_data"
    },
    {
     "data": {
      "image/png": "[encoded data removed]",
      "text/plain": [
       "<Figure size 640x480 with 1 Axes>"
      ]
     },
     "metadata": {},
     "output_type": "display_data"
    },
    {
     "data": {
      "image/png": "[encoded data removed]",
      "text/plain": [
       "<Figure size 640x480 with 1 Axes>"
      ]
     },
     "metadata": {},
     "output_type": "display_data"
    },
    {
     "data": {
      "image/png": "[encoded data removed]",
      "text/plain": [
       "<Figure size 640x480 with 1 Axes>"
      ]
     },
     "metadata": {},
     "output_type": "display_data"
    }
   ],
   "source": [
    "\n",
    "data.plot(kind = \"scatter\", x = 'DiscountsAvailed',y=\"PurchaseStatus\")\n",
    "data.plot(kind = \"scatter\", x = 'TimeSpentOnWebsite',y=\"PurchaseStatus\")\n",
    "data.plot(kind = \"scatter\", x = 'ProductCategory',y=\"PurchaseStatus\")\n",
    "data.plot(kind = \"scatter\", x = 'LoyaltyProgram',y=\"PurchaseStatus\")\n",
    "# data.plot(kind = \"scatter\", x = 'Age',y=\"PurchaseStatus\")\n",
    "data.plot(kind = \"scatter\", x = 'AnnualIncome',y=\"PurchaseStatus\")\n"
   ]
  },
  {
   "cell_type": "markdown",
   "id": "53bc88aa-c90f-49b3-8c62-9ec6aaa7b1a3",
   "metadata": {},
   "source": [
    "## Step 3: Feature Engineering and Split the data"
   ]
  },
  {
   "cell_type": "code",
   "execution_count": 392,
   "id": "0ac0b0d3-9fde-497e-8e95-7f95ae45e912",
   "metadata": {},
   "outputs": [],
   "source": [
    "def preprocessing(df,engineer_features=False):\n",
    "    df=df.copy()\n",
    "\n",
    "    \n",
    "    \n",
    "    if engineer_features == True:\n",
    "\n",
    "        \n",
    "        income_threshold = df['AnnualIncome'].quantile(0.65)\n",
    "        df['High Income'] = df['AnnualIncome'].apply(lambda x: 1 if x >= income_threshold else 0)\n",
    "        \n",
    "       \n",
    "\n",
    "    y= df[\"PurchaseStatus\"]\n",
    "    x= df.drop([\"PurchaseStatus\"],axis=1)\n",
    "\n",
    "    x_train, x_test, y_train, y_test = train_test_split(x,y,train_size=0.7,shuffle=True,random_state=1)\n",
    "\n",
    "    scaler = StandardScaler()\n",
    "    scaler.fit(x_train)\n",
    "    x_train = pd.DataFrame(scaler.transform(x_train), index=x_train.index, columns=x_train.columns)\n",
    "    x_test = pd.DataFrame(scaler.transform(x_test), index=x_test.index, columns=x_test.columns)\n",
    "    \n",
    "\n",
    "\n",
    "    return x_train, x_test, y_train, y_test,df\n",
    "    "
   ]
  },
  {
   "cell_type": "code",
   "execution_count": null,
   "id": "f5fb267b-953b-4213-86eb-549770c87b74",
   "metadata": {},
   "outputs": [],
   "source": []
  },
  {
   "cell_type": "code",
   "execution_count": null,
   "id": "29d6e8f2-4088-41e2-9a0a-58542d4560fb",
   "metadata": {},
   "outputs": [],
   "source": []
  },
  {
   "cell_type": "markdown",
   "id": "a8720153-28b8-4085-92cd-b9e2be6841ba",
   "metadata": {},
   "source": [
    "## Step 4: Train and Test The data (Without feature engineering)"
   ]
  },
  {
   "cell_type": "code",
   "execution_count": 393,
   "id": "a81d55d8-5501-4a4d-8472-f8469fc80594",
   "metadata": {},
   "outputs": [
    {
     "data": {
      "text/html": [
       "<div>\n",
       "<style scoped>\n",
       "    .dataframe tbody tr th:only-of-type {\n",
       "        vertical-align: middle;\n",
       "    }\n",
       "\n",
       "    .dataframe tbody tr th {\n",
       "        vertical-align: top;\n",
       "    }\n",
       "\n",
       "    .dataframe thead th {\n",
       "        text-align: right;\n",
       "    }\n",
       "</style>\n",
       "<table border=\"1\" class=\"dataframe\">\n",
       "  <thead>\n",
       "    <tr style=\"text-align: right;\">\n",
       "      <th></th>\n",
       "      <th>Age</th>\n",
       "      <th>Gender</th>\n",
       "      <th>AnnualIncome</th>\n",
       "      <th>NumberOfPurchases</th>\n",
       "      <th>ProductCategory</th>\n",
       "      <th>TimeSpentOnWebsite</th>\n",
       "      <th>LoyaltyProgram</th>\n",
       "      <th>DiscountsAvailed</th>\n",
       "    </tr>\n",
       "  </thead>\n",
       "  <tbody>\n",
       "    <tr>\n",
       "      <th>582</th>\n",
       "      <td>0.843482</td>\n",
       "      <td>-1.023974</td>\n",
       "      <td>1.696717</td>\n",
       "      <td>-0.972884</td>\n",
       "      <td>0.715693</td>\n",
       "      <td>0.649114</td>\n",
       "      <td>-0.707653</td>\n",
       "      <td>-0.939894</td>\n",
       "    </tr>\n",
       "    <tr>\n",
       "      <th>1453</th>\n",
       "      <td>0.908582</td>\n",
       "      <td>0.976587</td>\n",
       "      <td>-0.033407</td>\n",
       "      <td>0.574628</td>\n",
       "      <td>0.008017</td>\n",
       "      <td>-1.080516</td>\n",
       "      <td>-0.707653</td>\n",
       "      <td>0.819689</td>\n",
       "    </tr>\n",
       "    <tr>\n",
       "      <th>407</th>\n",
       "      <td>0.713282</td>\n",
       "      <td>0.976587</td>\n",
       "      <td>0.492461</td>\n",
       "      <td>-1.144830</td>\n",
       "      <td>0.715693</td>\n",
       "      <td>-0.239341</td>\n",
       "      <td>1.413122</td>\n",
       "      <td>0.819689</td>\n",
       "    </tr>\n",
       "    <tr>\n",
       "      <th>1100</th>\n",
       "      <td>1.689780</td>\n",
       "      <td>0.976587</td>\n",
       "      <td>-0.844625</td>\n",
       "      <td>-1.660667</td>\n",
       "      <td>-0.699659</td>\n",
       "      <td>-1.142257</td>\n",
       "      <td>1.413122</td>\n",
       "      <td>0.233161</td>\n",
       "    </tr>\n",
       "    <tr>\n",
       "      <th>1112</th>\n",
       "      <td>0.192484</td>\n",
       "      <td>0.976587</td>\n",
       "      <td>1.641728</td>\n",
       "      <td>-1.488721</td>\n",
       "      <td>-1.407336</td>\n",
       "      <td>-1.122582</td>\n",
       "      <td>-0.707653</td>\n",
       "      <td>-1.526422</td>\n",
       "    </tr>\n",
       "    <tr>\n",
       "      <th>...</th>\n",
       "      <td>...</td>\n",
       "      <td>...</td>\n",
       "      <td>...</td>\n",
       "      <td>...</td>\n",
       "      <td>...</td>\n",
       "      <td>...</td>\n",
       "      <td>...</td>\n",
       "      <td>...</td>\n",
       "    </tr>\n",
       "    <tr>\n",
       "      <th>748</th>\n",
       "      <td>-1.435012</td>\n",
       "      <td>0.976587</td>\n",
       "      <td>0.604779</td>\n",
       "      <td>-0.113155</td>\n",
       "      <td>1.423370</td>\n",
       "      <td>1.735059</td>\n",
       "      <td>-0.707653</td>\n",
       "      <td>1.406217</td>\n",
       "    </tr>\n",
       "    <tr>\n",
       "      <th>954</th>\n",
       "      <td>1.624680</td>\n",
       "      <td>-1.023974</td>\n",
       "      <td>-0.008848</td>\n",
       "      <td>0.746574</td>\n",
       "      <td>-0.699659</td>\n",
       "      <td>-0.151316</td>\n",
       "      <td>1.413122</td>\n",
       "      <td>1.406217</td>\n",
       "    </tr>\n",
       "    <tr>\n",
       "      <th>1166</th>\n",
       "      <td>1.234081</td>\n",
       "      <td>-1.023974</td>\n",
       "      <td>-0.120315</td>\n",
       "      <td>-0.628992</td>\n",
       "      <td>0.008017</td>\n",
       "      <td>0.833765</td>\n",
       "      <td>-0.707653</td>\n",
       "      <td>0.819689</td>\n",
       "    </tr>\n",
       "    <tr>\n",
       "      <th>235</th>\n",
       "      <td>-0.393415</td>\n",
       "      <td>0.976587</td>\n",
       "      <td>-1.444097</td>\n",
       "      <td>-1.144830</td>\n",
       "      <td>1.423370</td>\n",
       "      <td>1.739984</td>\n",
       "      <td>-0.707653</td>\n",
       "      <td>0.233161</td>\n",
       "    </tr>\n",
       "    <tr>\n",
       "      <th>1127</th>\n",
       "      <td>-1.239713</td>\n",
       "      <td>0.976587</td>\n",
       "      <td>1.537156</td>\n",
       "      <td>-1.832613</td>\n",
       "      <td>1.423370</td>\n",
       "      <td>-0.769353</td>\n",
       "      <td>-0.707653</td>\n",
       "      <td>-0.939894</td>\n",
       "    </tr>\n",
       "  </tbody>\n",
       "</table>\n",
       "<p>971 rows × 8 columns</p>\n",
       "</div>"
      ],
      "text/plain": [
       "           Age    Gender  AnnualIncome  NumberOfPurchases  ProductCategory  \\\n",
       "582   0.843482 -1.023974      1.696717          -0.972884         0.715693   \n",
       "1453  0.908582  0.976587     -0.033407           0.574628         0.008017   \n",
       "407   0.713282  0.976587      0.492461          -1.144830         0.715693   \n",
       "1100  1.689780  0.976587     -0.844625          -1.660667        -0.699659   \n",
       "1112  0.192484  0.976587      1.641728          -1.488721        -1.407336   \n",
       "...        ...       ...           ...                ...              ...   \n",
       "748  -1.435012  0.976587      0.604779          -0.113155         1.423370   \n",
       "954   1.624680 -1.023974     -0.008848           0.746574        -0.699659   \n",
       "1166  1.234081 -1.023974     -0.120315          -0.628992         0.008017   \n",
       "235  -0.393415  0.976587     -1.444097          -1.144830         1.423370   \n",
       "1127 -1.239713  0.976587      1.537156          -1.832613         1.423370   \n",
       "\n",
       "      TimeSpentOnWebsite  LoyaltyProgram  DiscountsAvailed  \n",
       "582             0.649114       -0.707653         -0.939894  \n",
       "1453           -1.080516       -0.707653          0.819689  \n",
       "407            -0.239341        1.413122          0.819689  \n",
       "1100           -1.142257        1.413122          0.233161  \n",
       "1112           -1.122582       -0.707653         -1.526422  \n",
       "...                  ...             ...               ...  \n",
       "748             1.735059       -0.707653          1.406217  \n",
       "954            -0.151316        1.413122          1.406217  \n",
       "1166            0.833765       -0.707653          0.819689  \n",
       "235             1.739984       -0.707653          0.233161  \n",
       "1127           -0.769353       -0.707653         -0.939894  \n",
       "\n",
       "[971 rows x 8 columns]"
      ]
     },
     "execution_count": 393,
     "metadata": {},
     "output_type": "execute_result"
    }
   ],
   "source": [
    "\n",
    "x_train, x_test, y_train, y_test,df=preprocessing(data,engineer_features=False)\n",
    "x_train"
   ]
  },
  {
   "cell_type": "code",
   "execution_count": null,
   "id": "745f4c29-ddc3-4b48-948b-78d499c4997a",
   "metadata": {},
   "outputs": [],
   "source": []
  },
  {
   "cell_type": "code",
   "execution_count": 394,
   "id": "83d7c417-6c50-421f-b5b0-c52f65ea20fe",
   "metadata": {},
   "outputs": [
    {
     "name": "stdout",
     "output_type": "stream",
     "text": [
      "Test Accuracy: 84.652%\n"
     ]
    }
   ],
   "source": [
    "model = LogisticRegression()\n",
    "model=model.fit(x_train, y_train)\n",
    "\n",
    "acc = model.score(x_test,y_test)\n",
    "\n",
    "print(\"Test Accuracy: {:.3f}%\".format(acc*100))"
   ]
  },
  {
   "cell_type": "code",
   "execution_count": null,
   "id": "b57f006f-1424-4d1c-930e-aca600eaa809",
   "metadata": {},
   "outputs": [],
   "source": []
  },
  {
   "cell_type": "markdown",
   "id": "d1bd77d8-3fb6-443c-a36f-9b5e3b976158",
   "metadata": {},
   "source": [
    "## Step 4: Train and Test The data (With feature engineering)"
   ]
  },
  {
   "cell_type": "code",
   "execution_count": 395,
   "id": "c359d1a9-4de0-453b-affa-459704fb68ad",
   "metadata": {},
   "outputs": [
    {
     "data": {
      "text/html": [
       "<div>\n",
       "<style scoped>\n",
       "    .dataframe tbody tr th:only-of-type {\n",
       "        vertical-align: middle;\n",
       "    }\n",
       "\n",
       "    .dataframe tbody tr th {\n",
       "        vertical-align: top;\n",
       "    }\n",
       "\n",
       "    .dataframe thead th {\n",
       "        text-align: right;\n",
       "    }\n",
       "</style>\n",
       "<table border=\"1\" class=\"dataframe\">\n",
       "  <thead>\n",
       "    <tr style=\"text-align: right;\">\n",
       "      <th></th>\n",
       "      <th>Age</th>\n",
       "      <th>Gender</th>\n",
       "      <th>AnnualIncome</th>\n",
       "      <th>NumberOfPurchases</th>\n",
       "      <th>ProductCategory</th>\n",
       "      <th>TimeSpentOnWebsite</th>\n",
       "      <th>LoyaltyProgram</th>\n",
       "      <th>DiscountsAvailed</th>\n",
       "      <th>High Income</th>\n",
       "    </tr>\n",
       "  </thead>\n",
       "  <tbody>\n",
       "    <tr>\n",
       "      <th>582</th>\n",
       "      <td>0.843482</td>\n",
       "      <td>-1.023974</td>\n",
       "      <td>1.696717</td>\n",
       "      <td>-0.972884</td>\n",
       "      <td>0.715693</td>\n",
       "      <td>0.649114</td>\n",
       "      <td>-0.707653</td>\n",
       "      <td>-0.939894</td>\n",
       "      <td>1.393709</td>\n",
       "    </tr>\n",
       "    <tr>\n",
       "      <th>1453</th>\n",
       "      <td>0.908582</td>\n",
       "      <td>0.976587</td>\n",
       "      <td>-0.033407</td>\n",
       "      <td>0.574628</td>\n",
       "      <td>0.008017</td>\n",
       "      <td>-1.080516</td>\n",
       "      <td>-0.707653</td>\n",
       "      <td>0.819689</td>\n",
       "      <td>-0.717510</td>\n",
       "    </tr>\n",
       "    <tr>\n",
       "      <th>407</th>\n",
       "      <td>0.713282</td>\n",
       "      <td>0.976587</td>\n",
       "      <td>0.492461</td>\n",
       "      <td>-1.144830</td>\n",
       "      <td>0.715693</td>\n",
       "      <td>-0.239341</td>\n",
       "      <td>1.413122</td>\n",
       "      <td>0.819689</td>\n",
       "      <td>-0.717510</td>\n",
       "    </tr>\n",
       "    <tr>\n",
       "      <th>1100</th>\n",
       "      <td>1.689780</td>\n",
       "      <td>0.976587</td>\n",
       "      <td>-0.844625</td>\n",
       "      <td>-1.660667</td>\n",
       "      <td>-0.699659</td>\n",
       "      <td>-1.142257</td>\n",
       "      <td>1.413122</td>\n",
       "      <td>0.233161</td>\n",
       "      <td>-0.717510</td>\n",
       "    </tr>\n",
       "    <tr>\n",
       "      <th>1112</th>\n",
       "      <td>0.192484</td>\n",
       "      <td>0.976587</td>\n",
       "      <td>1.641728</td>\n",
       "      <td>-1.488721</td>\n",
       "      <td>-1.407336</td>\n",
       "      <td>-1.122582</td>\n",
       "      <td>-0.707653</td>\n",
       "      <td>-1.526422</td>\n",
       "      <td>1.393709</td>\n",
       "    </tr>\n",
       "    <tr>\n",
       "      <th>...</th>\n",
       "      <td>...</td>\n",
       "      <td>...</td>\n",
       "      <td>...</td>\n",
       "      <td>...</td>\n",
       "      <td>...</td>\n",
       "      <td>...</td>\n",
       "      <td>...</td>\n",
       "      <td>...</td>\n",
       "      <td>...</td>\n",
       "    </tr>\n",
       "    <tr>\n",
       "      <th>748</th>\n",
       "      <td>-1.435012</td>\n",
       "      <td>0.976587</td>\n",
       "      <td>0.604779</td>\n",
       "      <td>-0.113155</td>\n",
       "      <td>1.423370</td>\n",
       "      <td>1.735059</td>\n",
       "      <td>-0.707653</td>\n",
       "      <td>1.406217</td>\n",
       "      <td>1.393709</td>\n",
       "    </tr>\n",
       "    <tr>\n",
       "      <th>954</th>\n",
       "      <td>1.624680</td>\n",
       "      <td>-1.023974</td>\n",
       "      <td>-0.008848</td>\n",
       "      <td>0.746574</td>\n",
       "      <td>-0.699659</td>\n",
       "      <td>-0.151316</td>\n",
       "      <td>1.413122</td>\n",
       "      <td>1.406217</td>\n",
       "      <td>-0.717510</td>\n",
       "    </tr>\n",
       "    <tr>\n",
       "      <th>1166</th>\n",
       "      <td>1.234081</td>\n",
       "      <td>-1.023974</td>\n",
       "      <td>-0.120315</td>\n",
       "      <td>-0.628992</td>\n",
       "      <td>0.008017</td>\n",
       "      <td>0.833765</td>\n",
       "      <td>-0.707653</td>\n",
       "      <td>0.819689</td>\n",
       "      <td>-0.717510</td>\n",
       "    </tr>\n",
       "    <tr>\n",
       "      <th>235</th>\n",
       "      <td>-0.393415</td>\n",
       "      <td>0.976587</td>\n",
       "      <td>-1.444097</td>\n",
       "      <td>-1.144830</td>\n",
       "      <td>1.423370</td>\n",
       "      <td>1.739984</td>\n",
       "      <td>-0.707653</td>\n",
       "      <td>0.233161</td>\n",
       "      <td>-0.717510</td>\n",
       "    </tr>\n",
       "    <tr>\n",
       "      <th>1127</th>\n",
       "      <td>-1.239713</td>\n",
       "      <td>0.976587</td>\n",
       "      <td>1.537156</td>\n",
       "      <td>-1.832613</td>\n",
       "      <td>1.423370</td>\n",
       "      <td>-0.769353</td>\n",
       "      <td>-0.707653</td>\n",
       "      <td>-0.939894</td>\n",
       "      <td>1.393709</td>\n",
       "    </tr>\n",
       "  </tbody>\n",
       "</table>\n",
       "<p>971 rows × 9 columns</p>\n",
       "</div>"
      ],
      "text/plain": [
       "           Age    Gender  AnnualIncome  NumberOfPurchases  ProductCategory  \\\n",
       "582   0.843482 -1.023974      1.696717          -0.972884         0.715693   \n",
       "1453  0.908582  0.976587     -0.033407           0.574628         0.008017   \n",
       "407   0.713282  0.976587      0.492461          -1.144830         0.715693   \n",
       "1100  1.689780  0.976587     -0.844625          -1.660667        -0.699659   \n",
       "1112  0.192484  0.976587      1.641728          -1.488721        -1.407336   \n",
       "...        ...       ...           ...                ...              ...   \n",
       "748  -1.435012  0.976587      0.604779          -0.113155         1.423370   \n",
       "954   1.624680 -1.023974     -0.008848           0.746574        -0.699659   \n",
       "1166  1.234081 -1.023974     -0.120315          -0.628992         0.008017   \n",
       "235  -0.393415  0.976587     -1.444097          -1.144830         1.423370   \n",
       "1127 -1.239713  0.976587      1.537156          -1.832613         1.423370   \n",
       "\n",
       "      TimeSpentOnWebsite  LoyaltyProgram  DiscountsAvailed  High Income  \n",
       "582             0.649114       -0.707653         -0.939894     1.393709  \n",
       "1453           -1.080516       -0.707653          0.819689    -0.717510  \n",
       "407            -0.239341        1.413122          0.819689    -0.717510  \n",
       "1100           -1.142257        1.413122          0.233161    -0.717510  \n",
       "1112           -1.122582       -0.707653         -1.526422     1.393709  \n",
       "...                  ...             ...               ...          ...  \n",
       "748             1.735059       -0.707653          1.406217     1.393709  \n",
       "954            -0.151316        1.413122          1.406217    -0.717510  \n",
       "1166            0.833765       -0.707653          0.819689    -0.717510  \n",
       "235             1.739984       -0.707653          0.233161    -0.717510  \n",
       "1127           -0.769353       -0.707653         -0.939894     1.393709  \n",
       "\n",
       "[971 rows x 9 columns]"
      ]
     },
     "execution_count": 395,
     "metadata": {},
     "output_type": "execute_result"
    }
   ],
   "source": [
    "x_train, x_test, y_train, y_test,df = preprocessing(data, engineer_features=True)\n",
    "x_train"
   ]
  },
  {
   "cell_type": "code",
   "execution_count": 396,
   "id": "d5f1de5b-4620-493f-a2af-da6701c9bc6d",
   "metadata": {},
   "outputs": [
    {
     "name": "stdout",
     "output_type": "stream",
     "text": [
      "Test Accuracy: 86.091%\n"
     ]
    }
   ],
   "source": [
    "model = LogisticRegression()\n",
    "model.fit(x_train, y_train)\n",
    "\n",
    "acc = model.score(x_test, y_test)\n",
    "\n",
    "print(\"Test Accuracy: {:.3f}%\".format(acc * 100))"
   ]
  },
  {
   "cell_type": "code",
   "execution_count": null,
   "id": "30694f73-3c8b-4f99-8608-c0c833b70669",
   "metadata": {},
   "outputs": [],
   "source": [
    "\n"
   ]
  },
  {
   "cell_type": "code",
   "execution_count": null,
   "id": "c22f111d-fec4-4246-86c1-956b72a49e96",
   "metadata": {},
   "outputs": [],
   "source": []
  },
  {
   "cell_type": "code",
   "execution_count": null,
   "id": "1c27b70d-cf38-449d-ad86-8fb1c64eecf8",
   "metadata": {},
   "outputs": [],
   "source": []
  }
 ],
 "metadata": {
  "kernelspec": {
   "display_name": "Python 3 (ipykernel)",
   "language": "python",
   "name": "python3"
  },
  "language_info": {
   "codemirror_mode": {
    "name": "ipython",
    "version": 3
   },
   "file_extension": ".py",
   "mimetype": "text/x-python",
   "name": "python",
   "nbconvert_exporter": "python",
   "pygments_lexer": "ipython3",
   "version": "3.10.11"
  }
 },
 "nbformat": 4,
 "nbformat_minor": 5
}
